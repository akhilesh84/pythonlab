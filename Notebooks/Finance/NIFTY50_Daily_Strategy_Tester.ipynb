{
 "cells": [
  {
   "cell_type": "markdown",
   "metadata": {},
   "source": [
    "In this notebook I intend to test a strategy where I invest an amount in NIFTY50 index and then rebalance the portfolio every week. The strategy is as follows:\n",
    "- Invest INR 100,000- in NIFTY50 index\n",
    "- If the return of the index is greater than X % in a week, sell the index to book the profit and take a long position again.\n",
    "- Do this every Friday."
   ]
  },
  {
   "cell_type": "code",
   "execution_count": 309,
   "metadata": {},
   "outputs": [],
   "source": [
    "import yfinance as yf\n",
    "import pandas as pd"
   ]
  },
  {
   "cell_type": "code",
   "execution_count": 310,
   "metadata": {},
   "outputs": [],
   "source": [
    "SHORT_TERM_CAPITAL_GAINS_TAX_RATE = 0.20\n",
    "BROKERAGE = 0\n",
    "SECURITY_TRANSACTION_TAX_RATE = 0.001\n",
    "TRANASCTION_CHARGES_RATE = 0.0000297\n",
    "GST_RATE = 0.18\n",
    "SEBI_CHARGES = 10\n",
    "STAMP_DUTY_RATE = 0.00015 # Applicable only in case of buy transaction\n",
    "\n",
    "def calculate_STCG(price, quantity, buy_price, sell_price):\n",
    "    \"\"\"\n",
    "    Calculate the Short Term Capital Gains Tax\n",
    "    \"\"\"\n",
    "    return max((sell_price - buy_price), 0) * quantity * SHORT_TERM_CAPITAL_GAINS_TAX_RATE\n",
    "\n",
    "def calculate_charges(price, quantity, buy=True):\n",
    "    \"\"\"\n",
    "    Calculate the charges for a transaction\n",
    "    \"\"\"\n",
    "    if buy:\n",
    "        stamp_duty = price * quantity * STAMP_DUTY_RATE\n",
    "    else:\n",
    "        stamp_duty = 0\n",
    "    brokerage = BROKERAGE\n",
    "    stt = price * quantity * SECURITY_TRANSACTION_TAX_RATE\n",
    "    transaction_charges = price * quantity * TRANASCTION_CHARGES_RATE\n",
    "    gst = (brokerage + SEBI_CHARGES + transaction_charges) * GST_RATE\n",
    "    return brokerage + stt + transaction_charges + gst + SEBI_CHARGES + stamp_duty"
   ]
  },
  {
   "cell_type": "code",
   "execution_count": null,
   "metadata": {},
   "outputs": [],
   "source": [
    "# Define the ticker symbol for NIFTY 50\n",
    "ticker = \"^NSEI\"\n",
    "\n",
    "# Set the time period\n",
    "start_date = \"2015-11-01\"\n",
    "end_date = \"2025-01-02\"\n",
    "\n",
    "# Fetch the data\n",
    "data = yf.download(ticker, start=start_date, end=end_date, interval='1d')\n",
    "pd.DataFrame.drop(data, columns=['Close', 'Volume'], inplace=True)\n",
    "data.rename(columns={'Adj Close': 'Close'}, inplace=True)\n",
    "data = pd.concat([pd.DataFrame(data.iloc[0]).T, data.resample('W-FRI').last()])\n",
    "# Add a column with default value set to 0\n",
    "data['Returns'] = 0.0\n",
    "data['SELL_Cost'] = 0.0\n",
    "data['STCG'] = 0.0\n",
    "data['BUY_Cost'] = 0.0\n",
    "data['Profit'] = 0.0"
   ]
  },
  {
   "cell_type": "code",
   "execution_count": 312,
   "metadata": {},
   "outputs": [],
   "source": [
    "data.loc[data.index[0], 'Close'] = data.loc[data.index[0], 'Open']\n",
    "data['Returns'] = data['Close'].pct_change()"
   ]
  },
  {
   "cell_type": "code",
   "execution_count": 323,
   "metadata": {},
   "outputs": [],
   "source": [
    "# Initial values\n",
    "initial_amount = 1000000\n",
    "amount = initial_amount\n",
    "\n",
    "# Threshold percentage for selling (e.g., 2% return)\n",
    "EXPECTED_RETURN = 0.15\n",
    "THRESHOLD_PERCENTAGE = EXPECTED_RETURN / 100"
   ]
  },
  {
   "cell_type": "code",
   "execution_count": 324,
   "metadata": {},
   "outputs": [],
   "source": [
    "buy_price = data.iloc[0]['Close']\n",
    "quantity = initial_amount // buy_price\n",
    "\n",
    "# Iterate over rows of a dataframe. If return is greater than threshold, sell the stock and buy again\n",
    "for index, row in data[1:].iterrows():\n",
    "    if row['Returns'] > THRESHOLD_PERCENTAGE:\n",
    "        # Sell the stock\n",
    "        sell_price = row['Close']\n",
    "        stcg = calculate_STCG(row['Close'], quantity, buy_price, sell_price)\n",
    "        charges = calculate_charges(row['Close'], quantity, buy=False)\n",
    "        data.loc[index, 'SELL_Cost'] = charges\n",
    "        data.loc[index, 'STCG'] = stcg\n",
    "        \n",
    "        # Buy again\n",
    "        buy_price = row['Close']\n",
    "        quantity = initial_amount // buy_price\n",
    "        charges = calculate_charges(row['Close'], quantity, buy=True)\n",
    "        data.loc[index, 'BUY_Cost'] = charges\n",
    "\n",
    "        data.loc[index, 'Profit'] = initial_amount * row['Returns'] - row['SELL_Cost'] - row['STCG'] - row['BUY_Cost']"
   ]
  },
  {
   "cell_type": "code",
   "execution_count": null,
   "metadata": {},
   "outputs": [],
   "source": [
    "profit = round(data['Profit'].sum(), 2)\n",
    "print(f\"Profit: INR {profit}/-\")"
   ]
  },
  {
   "cell_type": "code",
   "execution_count": null,
   "metadata": {},
   "outputs": [],
   "source": [
    "data"
   ]
  }
 ],
 "metadata": {
  "kernelspec": {
   "display_name": "env",
   "language": "python",
   "name": "python3"
  },
  "language_info": {
   "codemirror_mode": {
    "name": "ipython",
    "version": 3
   },
   "file_extension": ".py",
   "mimetype": "text/x-python",
   "name": "python",
   "nbconvert_exporter": "python",
   "pygments_lexer": "ipython3",
   "version": "3.12.2"
  }
 },
 "nbformat": 4,
 "nbformat_minor": 2
}
