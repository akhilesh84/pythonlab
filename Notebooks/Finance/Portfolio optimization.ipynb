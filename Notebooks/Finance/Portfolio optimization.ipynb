{
 "cells": [
  {
   "cell_type": "code",
   "execution_count": null,
   "metadata": {},
   "outputs": [],
   "source": [
    "import numpy as np\n",
    "import pandas as pd\n",
    "import matplotlib.pyplot as plt\n",
    "import riskfolio as rp\n",
    "import math\n",
    "from datetime import datetime\n",
    "from dateutil.relativedelta import relativedelta\n",
    "import yfinance as yf\n",
    "from marketdatalib import map_scrip_to_yfin_ticker"
   ]
  },
  {
   "cell_type": "code",
   "execution_count": null,
   "metadata": {},
   "outputs": [],
   "source": [
    "# Number of year of historic data to consider\n",
    "years = 5\n",
    "\n",
    "# The risk free return rate. This is often the return on a 10 year government bond.\n",
    "# At present, the 10 year government bond rate is 6.84%. We are using 7.5% for the sake of simplicity which is the rate of gixed deposit.\n",
    "risk_free_return = 0.075\n",
    "acceptable_volatility = 0.15\n",
    "\n",
    "# In intend to evaluate the performance of the portfolio, we will compare it with the performance of the benchmark index.\n",
    "benchmark_index_nifty500 = 'NIFTY500_MULTICAP.NS'\n",
    "\n",
    "scripts_to_ignore = ['SONACOMS']\n",
    "\n",
    "special_scrips = ['ARE&M']"
   ]
  },
  {
   "cell_type": "code",
   "execution_count": null,
   "metadata": {},
   "outputs": [],
   "source": [
    "holdings = pd.read_csv('../../data/MarketData/holdings.csv', names={'Instrument': 'Instrument', 'Quantity': 'Qty.', 'AvgCost': 'Avg. cost', 'LTP': 'LTP', 'CurVal': 'Cur. val', 'P&L': 'P&L', 'NetChg_Pct': 'Net chg.', 'DayChange_Pct': 'Day chg.', '':''}, header=0, index_col=0)\n",
    "holdings = holdings.loc[:, holdings.columns != '']\n",
    "holdings = holdings.drop(axis=0, index=scripts_to_ignore)\n",
    "\n",
    "holdings['Weight'] = holdings['CurVal'] / holdings['CurVal'].sum()\n",
    "\n",
    "portfolio_stocks = [map_scrip_to_yfin_ticker(scrip, 'NSE' if scrip not in special_scrips else 'BSE') for scrip in holdings.index]\n",
    "# portfolio_stocks = [scrip for scrip in portfolio_stocks if scrip[0] != 'SONACOMS']\n",
    "holdings"
   ]
  },
  {
   "cell_type": "code",
   "execution_count": null,
   "metadata": {},
   "outputs": [],
   "source": [
    "master_data = pd.DataFrame()\n",
    "\n",
    "start_date = datetime.today() - relativedelta(years=5)\n",
    "\n",
    "for scrip, ticker in portfolio_stocks:\n",
    "    scrip_data = pd.Series(yf.download(ticker.ticker, start=start_date, rounding=True)['Adj Close'], name=scrip)\n",
    "    scrip_data.ffill(inplace=True)\n",
    "    master_data = pd.concat([master_data, scrip_data], axis=1)\n",
    "\n",
    "# master_data.ffill(inplace=True)\n",
    "master_data.index = pd.to_datetime(master_data.index)\n",
    "master_data = master_data.sort_index()\n",
    "master_data.tail()"
   ]
  },
  {
   "cell_type": "code",
   "execution_count": null,
   "metadata": {},
   "outputs": [],
   "source": [
    "def encich_with_returns(data: DataFrame):\n",
    "    for scrip, ticker in portfolio_stocks:\n",
    "        data[scrip + '_returns'] = data[scrip].pct_change(fill_method=None)\n",
    "        data[scrip + '_log_returns'] = data[scrip].apply(lambda x: math.log(x)).diff()\n",
    "    data.dropna(inplace=True, axis=0)\n",
    "    return data\n",
    "\n",
    "master_data = encich_with_returns(master_data)\n",
    "master_data"
   ]
  },
  {
   "cell_type": "code",
   "execution_count": null,
   "metadata": {},
   "outputs": [],
   "source": [
    "covariance_matrix = master_data[[scrip + '_returns' for scrip, ticker in portfolio_stocks]].cov().to_numpy()"
   ]
  },
  {
   "cell_type": "code",
   "execution_count": null,
   "metadata": {},
   "outputs": [],
   "source": [
    "realized_returns = pd.DataFrame(index=[scrip for scrip, _ in portfolio_stocks], columns=['Returns', 'AnnualizedReturns', 'DailyVolatility', 'AnnualizedVolatility', 'SharpeRatio', 'SortinoRatio', 'Beta'])\n",
    "\n",
    "for scrip, _ in portfolio_stocks:\n",
    "    realized_returns.loc[scrip, 'Returns'] = (master_data[scrip + '_returns'] + 1).prod() - 1\n",
    "\n",
    "    # Calculate average daily return\n",
    "    avg_daily_return = np.mean(master_data[scrip + '_returns'])\n",
    "    annualized_return = (1 + avg_daily_return).mean() ** 252 - 1\n",
    "    # Calculate downside deviation\n",
    "    downside_returns = master_data[scrip + '_returns'][master_data[scrip + '_returns'] < 0]\n",
    "    downside_deviation = np.std(downside_returns)\n",
    "    annualized_downside_deviation = downside_deviation * np.sqrt(252)\n",
    "\n",
    "    daily_std = realized_returns.loc[scrip, 'DailyVolatility'] = (master_data[scrip + '_returns']).std()\n",
    "    annualized_std = realized_returns.loc[scrip, 'AnnualizedVolatility'] = daily_std * math.sqrt(252)\n",
    "    realized_returns.loc[scrip, 'AnnualizedReturns'] = annualized_return\n",
    "    realized_returns.loc[scrip, 'SharpeRatio'] = (realized_returns.loc[scrip, 'AnnualizedReturns'] - risk_free_return) / annualized_std\n",
    "    \n",
    "    #TO: DO Calculate Beta. For this we need to calculate the covariance of the scrip with the benchmark index.\n",
    "    # Need to figure out a way to get that data. I am thinking of using the Nifty 500 index as the benchmark index.\n",
    "    realized_returns.loc[scrip, 'Beta'] = np.nan\n",
    "\n",
    "    # Calculate Sortino Ratio\n",
    "    sortino_ratio = (annualized_return - risk_free_return) / annualized_downside_deviation\n",
    "\n",
    "    realized_returns.loc[scrip, 'SortinoRatio'] = sortino_ratio\n",
    "\n",
    "realized_returns"
   ]
  },
  {
   "cell_type": "code",
   "execution_count": null,
   "metadata": {},
   "outputs": [],
   "source": []
  }
 ],
 "metadata": {
  "kernelspec": {
   "display_name": "env",
   "language": "python",
   "name": "python3"
  },
  "language_info": {
   "codemirror_mode": {
    "name": "ipython",
    "version": 3
   },
   "file_extension": ".py",
   "mimetype": "text/x-python",
   "name": "python",
   "nbconvert_exporter": "python",
   "pygments_lexer": "ipython3",
   "version": "3.12.2"
  }
 },
 "nbformat": 4,
 "nbformat_minor": 2
}
