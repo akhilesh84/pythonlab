{
 "cells": [
  {
   "cell_type": "markdown",
   "metadata": {},
   "source": [
    "In the below notebook, we will horical pricing data of Indian indices that we get from finance.yahoo.com. As part of this analysis, we'll try to achieve the following objectives:\n",
    "1. Use the data to calculate the daily returns of the indices.\n",
    "2. Use the daily returns to calculate the annualized volatility of the indices.\n",
    "3. Use the daily returns to calculate the annualized Sharpe ratio of the indices.\n",
    "4. Use the daily returns to calculate the annualized Sortino ratio of the indices.\n",
    "5. Use the daily returns to see the number of times an index has fallen by more than a particular percentage point in last N years, grouped by month (if possible).\n",
    "6. Plot the daily returns of the indices.\n",
    "\n",
    "I've created a simple google chrome extension to get historical data from finance.yahoo.com."
   ]
  },
  {
   "cell_type": "code",
   "execution_count": null,
   "metadata": {},
   "outputs": [],
   "source": []
  }
 ],
 "metadata": {
  "language_info": {
   "name": "python"
  }
 },
 "nbformat": 4,
 "nbformat_minor": 2
}
