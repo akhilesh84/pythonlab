{
 "cells": [
  {
   "cell_type": "code",
   "execution_count": 81,
   "metadata": {},
   "outputs": [],
   "source": [
    "from datetime import datetime\n",
    "# from dateutil.relativedelta import relativedelta\n",
    "import math\n",
    "from marketdatalib import map_scrip_to_yfin_ticker, get_nifty_index_data, calculate_beta\n",
    "import matplotlib.pyplot as plt\n",
    "import numpy as np\n",
    "import pandas as pd\n",
    "# from scipy.optimize import minimize"
   ]
  },
  {
   "cell_type": "code",
   "execution_count": 82,
   "metadata": {},
   "outputs": [
    {
     "data": {
      "text/plain": [
       "['NIFTY 100', 'NIFTY 500', 'NIFTY MIDCAP 150', 'NIFTY NEXT 50']"
      ]
     },
     "execution_count": 82,
     "metadata": {},
     "output_type": "execute_result"
    }
   ],
   "source": [
    "# Number of year of historic data to consider\n",
    "YEARS_OF_HISTORY = 5\n",
    "\n",
    "# The risk free return rate. This is often the return on a 10 year government bond.\n",
    "# At present, the 10 year government bond rate is 6.84%. We are using 7.5% for the sake of simplicity which is the rate of a fixed deposit.\n",
    "RISK_FREE_RETURN = 0.072\n",
    "EXPECTED_MARKET_RETURN = 0.18\n",
    "ACCEPTABLE_VOLATILITY = 0.15\n",
    "\n",
    "\n",
    "INDIAN_ETFS = ['NIFTY 100', 'NIFTY 500', 'NIFTY MIDCAP 150', 'NIFTY NEXT 50']\n",
    "INDIAN_ETFS"
   ]
  },
  {
   "cell_type": "code",
   "execution_count": 90,
   "metadata": {},
   "outputs": [
    {
     "data": {
      "text/html": [
       "<div>\n",
       "<style scoped>\n",
       "    .dataframe tbody tr th:only-of-type {\n",
       "        vertical-align: middle;\n",
       "    }\n",
       "\n",
       "    .dataframe tbody tr th {\n",
       "        vertical-align: top;\n",
       "    }\n",
       "\n",
       "    .dataframe thead th {\n",
       "        text-align: right;\n",
       "    }\n",
       "</style>\n",
       "<table border=\"1\" class=\"dataframe\">\n",
       "  <thead>\n",
       "    <tr style=\"text-align: right;\">\n",
       "      <th></th>\n",
       "      <th>NIFTY 100</th>\n",
       "      <th>NIFTY 500</th>\n",
       "      <th>NIFTY MIDCAP 150</th>\n",
       "      <th>NIFTY NEXT 50</th>\n",
       "      <th>NIFTY 100_Return</th>\n",
       "      <th>NIFTY 500_Return</th>\n",
       "      <th>NIFTY MIDCAP 150_Return</th>\n",
       "      <th>NIFTY NEXT 50_Return</th>\n",
       "    </tr>\n",
       "    <tr>\n",
       "      <th>Date</th>\n",
       "      <th></th>\n",
       "      <th></th>\n",
       "      <th></th>\n",
       "      <th></th>\n",
       "      <th></th>\n",
       "      <th></th>\n",
       "      <th></th>\n",
       "      <th></th>\n",
       "    </tr>\n",
       "  </thead>\n",
       "  <tbody>\n",
       "    <tr>\n",
       "      <th>2020-01-07</th>\n",
       "      <td>12154.95</td>\n",
       "      <td>9805.40</td>\n",
       "      <td>6303.85</td>\n",
       "      <td>28101.20</td>\n",
       "      <td>1.005322</td>\n",
       "      <td>1.005950</td>\n",
       "      <td>1.007198</td>\n",
       "      <td>1.007396</td>\n",
       "    </tr>\n",
       "    <tr>\n",
       "      <th>2020-01-08</th>\n",
       "      <td>12131.45</td>\n",
       "      <td>9792.20</td>\n",
       "      <td>6315.40</td>\n",
       "      <td>28113.55</td>\n",
       "      <td>0.998067</td>\n",
       "      <td>0.998654</td>\n",
       "      <td>1.001832</td>\n",
       "      <td>1.000439</td>\n",
       "    </tr>\n",
       "    <tr>\n",
       "      <th>2020-01-09</th>\n",
       "      <td>12319.70</td>\n",
       "      <td>9943.90</td>\n",
       "      <td>6403.55</td>\n",
       "      <td>28484.30</td>\n",
       "      <td>1.015518</td>\n",
       "      <td>1.015492</td>\n",
       "      <td>1.013958</td>\n",
       "      <td>1.013188</td>\n",
       "    </tr>\n",
       "    <tr>\n",
       "      <th>2020-01-10</th>\n",
       "      <td>12359.70</td>\n",
       "      <td>9978.00</td>\n",
       "      <td>6422.95</td>\n",
       "      <td>28556.05</td>\n",
       "      <td>1.003247</td>\n",
       "      <td>1.003429</td>\n",
       "      <td>1.003030</td>\n",
       "      <td>1.002519</td>\n",
       "    </tr>\n",
       "    <tr>\n",
       "      <th>2020-01-13</th>\n",
       "      <td>12436.45</td>\n",
       "      <td>10042.50</td>\n",
       "      <td>6465.75</td>\n",
       "      <td>28783.55</td>\n",
       "      <td>1.006210</td>\n",
       "      <td>1.006464</td>\n",
       "      <td>1.006664</td>\n",
       "      <td>1.007967</td>\n",
       "    </tr>\n",
       "    <tr>\n",
       "      <th>...</th>\n",
       "      <td>...</td>\n",
       "      <td>...</td>\n",
       "      <td>...</td>\n",
       "      <td>...</td>\n",
       "      <td>...</td>\n",
       "      <td>...</td>\n",
       "      <td>...</td>\n",
       "      <td>...</td>\n",
       "    </tr>\n",
       "    <tr>\n",
       "      <th>2024-12-30</th>\n",
       "      <td>24500.75</td>\n",
       "      <td>22357.15</td>\n",
       "      <td>21109.25</td>\n",
       "      <td>68063.80</td>\n",
       "      <td>0.994672</td>\n",
       "      <td>0.996077</td>\n",
       "      <td>1.001775</td>\n",
       "      <td>0.992804</td>\n",
       "    </tr>\n",
       "    <tr>\n",
       "      <th>2024-12-31</th>\n",
       "      <td>24495.55</td>\n",
       "      <td>22375.40</td>\n",
       "      <td>21141.20</td>\n",
       "      <td>67988.35</td>\n",
       "      <td>0.999788</td>\n",
       "      <td>1.000816</td>\n",
       "      <td>1.001514</td>\n",
       "      <td>0.998891</td>\n",
       "    </tr>\n",
       "    <tr>\n",
       "      <th>2025-01-01</th>\n",
       "      <td>24595.70</td>\n",
       "      <td>22481.80</td>\n",
       "      <td>21246.50</td>\n",
       "      <td>68247.95</td>\n",
       "      <td>1.004088</td>\n",
       "      <td>1.004755</td>\n",
       "      <td>1.004981</td>\n",
       "      <td>1.003818</td>\n",
       "    </tr>\n",
       "    <tr>\n",
       "      <th>2025-01-02</th>\n",
       "      <td>25028.80</td>\n",
       "      <td>22819.75</td>\n",
       "      <td>21473.15</td>\n",
       "      <td>69103.60</td>\n",
       "      <td>1.017609</td>\n",
       "      <td>1.015032</td>\n",
       "      <td>1.010668</td>\n",
       "      <td>1.012537</td>\n",
       "    </tr>\n",
       "    <tr>\n",
       "      <th>2025-01-03</th>\n",
       "      <td>24879.85</td>\n",
       "      <td>22708.15</td>\n",
       "      <td>21419.30</td>\n",
       "      <td>69192.45</td>\n",
       "      <td>0.994049</td>\n",
       "      <td>0.995109</td>\n",
       "      <td>0.997492</td>\n",
       "      <td>1.001286</td>\n",
       "    </tr>\n",
       "  </tbody>\n",
       "</table>\n",
       "<p>1304 rows × 8 columns</p>\n",
       "</div>"
      ],
      "text/plain": [
       "            NIFTY 100  NIFTY 500  NIFTY MIDCAP 150  NIFTY NEXT 50  \\\n",
       "Date                                                                \n",
       "2020-01-07   12154.95    9805.40           6303.85       28101.20   \n",
       "2020-01-08   12131.45    9792.20           6315.40       28113.55   \n",
       "2020-01-09   12319.70    9943.90           6403.55       28484.30   \n",
       "2020-01-10   12359.70    9978.00           6422.95       28556.05   \n",
       "2020-01-13   12436.45   10042.50           6465.75       28783.55   \n",
       "...               ...        ...               ...            ...   \n",
       "2024-12-30   24500.75   22357.15          21109.25       68063.80   \n",
       "2024-12-31   24495.55   22375.40          21141.20       67988.35   \n",
       "2025-01-01   24595.70   22481.80          21246.50       68247.95   \n",
       "2025-01-02   25028.80   22819.75          21473.15       69103.60   \n",
       "2025-01-03   24879.85   22708.15          21419.30       69192.45   \n",
       "\n",
       "            NIFTY 100_Return  NIFTY 500_Return  NIFTY MIDCAP 150_Return  \\\n",
       "Date                                                                      \n",
       "2020-01-07          1.005322          1.005950                 1.007198   \n",
       "2020-01-08          0.998067          0.998654                 1.001832   \n",
       "2020-01-09          1.015518          1.015492                 1.013958   \n",
       "2020-01-10          1.003247          1.003429                 1.003030   \n",
       "2020-01-13          1.006210          1.006464                 1.006664   \n",
       "...                      ...               ...                      ...   \n",
       "2024-12-30          0.994672          0.996077                 1.001775   \n",
       "2024-12-31          0.999788          1.000816                 1.001514   \n",
       "2025-01-01          1.004088          1.004755                 1.004981   \n",
       "2025-01-02          1.017609          1.015032                 1.010668   \n",
       "2025-01-03          0.994049          0.995109                 0.997492   \n",
       "\n",
       "            NIFTY NEXT 50_Return  \n",
       "Date                              \n",
       "2020-01-07              1.007396  \n",
       "2020-01-08              1.000439  \n",
       "2020-01-09              1.013188  \n",
       "2020-01-10              1.002519  \n",
       "2020-01-13              1.007967  \n",
       "...                          ...  \n",
       "2024-12-30              0.992804  \n",
       "2024-12-31              0.998891  \n",
       "2025-01-01              1.003818  \n",
       "2025-01-02              1.012537  \n",
       "2025-01-03              1.001286  \n",
       "\n",
       "[1304 rows x 8 columns]"
      ]
     },
     "execution_count": 90,
     "metadata": {},
     "output_type": "execute_result"
    }
   ],
   "source": [
    "master_data = pd.DataFrame()\n",
    "\n",
    "for ind in INDIAN_ETFS:\n",
    "    index_data = get_nifty_index_data(index_name=ind, number_of_years=YEARS_OF_HISTORY)['Close']\n",
    "    index_data = pd.Series(index_data)\n",
    "    index_data = index_data.to_frame(name=ind)\n",
    "    master_data = master_data.combine_first(index_data)\n",
    "\n",
    "# For every column in the master_data, add a new columns with name <column_name>_returns containting percentate returns compared to previous day\n",
    "for column in master_data:\n",
    "    master_data[column + '_Return'] = master_data[column].pct_change() + 1\n",
    "\n",
    "master_data = master_data.dropna()\n",
    "\n",
    "master_data"
   ]
  },
  {
   "cell_type": "code",
   "execution_count": 91,
   "metadata": {},
   "outputs": [],
   "source": [
    "def expected_return(market_return, risk_free_return, beta, weight = 1):\n",
    "    return risk_free_return + weight * beta * (market_return - risk_free_return)"
   ]
  },
  {
   "cell_type": "markdown",
   "metadata": {},
   "source": [
    "Let us assume that NIFTY 500 represents the total market for the sake of brevity. It represnts the universe of stocks that are investable in Indian equity market"
   ]
  },
  {
   "cell_type": "code",
   "execution_count": 92,
   "metadata": {},
   "outputs": [
    {
     "name": "stdout",
     "output_type": "stream",
     "text": [
      "Market Return: 1.329662268912743\n",
      "Market Volatility: 0.011409597317991297\n"
     ]
    }
   ],
   "source": [
    "market_returns = master_data['NIFTY 500_Return']\n",
    "\n",
    "R_m = market_returns.prod() - 1\n",
    "Sigma_m = market_returns.std()\n",
    "\n",
    "print(f\"Market Return: {R_m}\")\n",
    "print(f\"Market Volatility: {Sigma_m}\")\n"
   ]
  },
  {
   "cell_type": "markdown",
   "metadata": {},
   "source": [
    "To start with, let us start with a single security portfolio. The portfolio is constructed with NIFTY 50 and NIFTY PHARMA index."
   ]
  },
  {
   "cell_type": "code",
   "execution_count": 93,
   "metadata": {},
   "outputs": [],
   "source": [
    "portfolio_indices = ['NIFTY 100', 'NIFTY 500', 'NIFTY MIDCAP 150', 'NIFTY NEXT 50']"
   ]
  },
  {
   "cell_type": "code",
   "execution_count": 95,
   "metadata": {},
   "outputs": [
    {
     "data": {
      "text/html": [
       "<div>\n",
       "<style scoped>\n",
       "    .dataframe tbody tr th:only-of-type {\n",
       "        vertical-align: middle;\n",
       "    }\n",
       "\n",
       "    .dataframe tbody tr th {\n",
       "        vertical-align: top;\n",
       "    }\n",
       "\n",
       "    .dataframe thead th {\n",
       "        text-align: right;\n",
       "    }\n",
       "</style>\n",
       "<table border=\"1\" class=\"dataframe\">\n",
       "  <thead>\n",
       "    <tr style=\"text-align: right;\">\n",
       "      <th></th>\n",
       "      <th>Return</th>\n",
       "      <th>Beta</th>\n",
       "      <th>Volatility</th>\n",
       "      <th>ExpectedReturn</th>\n",
       "      <th>Sharpe Ratio</th>\n",
       "    </tr>\n",
       "  </thead>\n",
       "  <tbody>\n",
       "    <tr>\n",
       "      <th>NIFTY 100</th>\n",
       "      <td>2.057785</td>\n",
       "      <td>1.007893</td>\n",
       "      <td>0.011575</td>\n",
       "      <td>1.339589</td>\n",
       "      <td>171.561698</td>\n",
       "    </tr>\n",
       "    <tr>\n",
       "      <th>NIFTY 500</th>\n",
       "      <td>2.329662</td>\n",
       "      <td>1.000767</td>\n",
       "      <td>0.01141</td>\n",
       "      <td>1.330627</td>\n",
       "      <td>197.873966</td>\n",
       "    </tr>\n",
       "    <tr>\n",
       "      <th>NIFTY MIDCAP 150</th>\n",
       "      <td>3.422269</td>\n",
       "      <td>0.956851</td>\n",
       "      <td>0.011803</td>\n",
       "      <td>1.275396</td>\n",
       "      <td>283.849467</td>\n",
       "    </tr>\n",
       "    <tr>\n",
       "      <th>NIFTY NEXT 50</th>\n",
       "      <td>2.48047</td>\n",
       "      <td>0.975925</td>\n",
       "      <td>0.012127</td>\n",
       "      <td>1.299384</td>\n",
       "      <td>198.608529</td>\n",
       "    </tr>\n",
       "  </tbody>\n",
       "</table>\n",
       "</div>"
      ],
      "text/plain": [
       "                    Return      Beta Volatility ExpectedReturn Sharpe Ratio\n",
       "NIFTY 100         2.057785  1.007893   0.011575       1.339589   171.561698\n",
       "NIFTY 500         2.329662  1.000767    0.01141       1.330627   197.873966\n",
       "NIFTY MIDCAP 150  3.422269  0.956851   0.011803       1.275396   283.849467\n",
       "NIFTY NEXT 50      2.48047  0.975925   0.012127       1.299384   198.608529"
      ]
     },
     "execution_count": 95,
     "metadata": {},
     "output_type": "execute_result"
    }
   ],
   "source": [
    "returns_matrix = pd.DataFrame(index=portfolio_indices, columns=['Return', 'Beta', 'Volatility', 'ExpectedReturn', 'Sharpe Ratio'])\n",
    "\n",
    "for index in portfolio_indices:\n",
    "    index_returns = master_data[index + '_Return'].prod()\n",
    "    returns_matrix.loc[index, 'Return'] = index_returns\n",
    "    returns_matrix.loc[index, 'Beta'] = calculate_beta(master_data[index + '_Return'], market_returns)\n",
    "    returns_matrix.loc[index, 'Volatility'] = master_data[index + '_Return'].std()\n",
    "    returns_matrix.loc[index, 'ExpectedReturn'] = RISK_FREE_RETURN + returns_matrix.loc[index, 'Beta'] * (R_m - RISK_FREE_RETURN)\n",
    "    returns_matrix.loc[index, 'Sharpe Ratio'] = (index_returns - RISK_FREE_RETURN) / returns_matrix.loc[index, 'Volatility']\n",
    "\n",
    "# variannce_i = master_data['NIFTY 100_Return'].var()\n",
    "# Sigma_i = np.sqrt(variannce_i)\n",
    "# corr_i_m = master_data['NIFTY 100_Return'].corr(market_returns)\n",
    "# beta_i = corr_i_m * Sigma_i / Sigma_m\n",
    "# Sigma_i, beta_i\n",
    "returns_matrix"
   ]
  },
  {
   "cell_type": "code",
   "execution_count": 88,
   "metadata": {},
   "outputs": [
    {
     "ename": "NameError",
     "evalue": "name 'beta_i' is not defined",
     "output_type": "error",
     "traceback": [
      "\u001b[0;31m---------------------------------------------------------------------------\u001b[0m",
      "\u001b[0;31mNameError\u001b[0m                                 Traceback (most recent call last)",
      "Cell \u001b[0;32mIn[88], line 3\u001b[0m\n\u001b[1;32m      1\u001b[0m weights \u001b[38;5;241m=\u001b[39m np\u001b[38;5;241m.\u001b[39mlinspace(\u001b[38;5;241m0\u001b[39m, \u001b[38;5;241m100\u001b[39m, \u001b[38;5;241m100\u001b[39m)\n\u001b[0;32m----> 3\u001b[0m returns \u001b[38;5;241m=\u001b[39m [expected_return(market_return\u001b[38;5;241m=\u001b[39mR_m, risk_free_return\u001b[38;5;241m=\u001b[39mRISK_FREE_RETURN, beta\u001b[38;5;241m=\u001b[39m\u001b[43mbeta_i\u001b[49m, weight\u001b[38;5;241m=\u001b[39mweight) \u001b[38;5;28;01mfor\u001b[39;00m weight \u001b[38;5;129;01min\u001b[39;00m weights]\n\u001b[1;32m      4\u001b[0m volatilities \u001b[38;5;241m=\u001b[39m [Sigma_i \u001b[38;5;241m*\u001b[39m weight \u001b[38;5;241m*\u001b[39m \u001b[38;5;241m100\u001b[39m \u001b[38;5;28;01mfor\u001b[39;00m weight \u001b[38;5;129;01min\u001b[39;00m weights]\n",
      "\u001b[0;31mNameError\u001b[0m: name 'beta_i' is not defined"
     ]
    }
   ],
   "source": [
    "weights = np.linspace(0, 100, 100)\n",
    "\n",
    "returns = [expected_return(market_return=R_m, risk_free_return=RISK_FREE_RETURN, beta=beta_i, weight=weight) for weight in weights]\n",
    "volatilities = [Sigma_i * weight * 100 for weight in weights]\n"
   ]
  },
  {
   "cell_type": "code",
   "execution_count": null,
   "metadata": {},
   "outputs": [],
   "source": [
    "ax = plt.figure(figsize=(12, 12))\n",
    "\n",
    "plt.scatter(volatilities, returns, c=volatilities, cmap='viridis')\n",
    "plt.xlabel('Volatility')\n",
    "plt.ylabel('Expected Return')\n",
    "plt.title('Efficient Frontier')\n",
    "plt.show()"
   ]
  },
  {
   "cell_type": "code",
   "execution_count": null,
   "metadata": {},
   "outputs": [],
   "source": [
    "master_data['NIFTY 100_Return'].prod() - 1"
   ]
  },
  {
   "cell_type": "code",
   "execution_count": null,
   "metadata": {},
   "outputs": [],
   "source": [
    "volatilities"
   ]
  },
  {
   "cell_type": "code",
   "execution_count": null,
   "metadata": {},
   "outputs": [],
   "source": []
  }
 ],
 "metadata": {
  "kernelspec": {
   "display_name": "env",
   "language": "python",
   "name": "python3"
  },
  "language_info": {
   "codemirror_mode": {
    "name": "ipython",
    "version": 3
   },
   "file_extension": ".py",
   "mimetype": "text/x-python",
   "name": "python",
   "nbconvert_exporter": "python",
   "pygments_lexer": "ipython3",
   "version": "3.12.2"
  }
 },
 "nbformat": 4,
 "nbformat_minor": 2
}
