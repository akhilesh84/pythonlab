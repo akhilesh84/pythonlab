{
 "cells": [
  {
   "cell_type": "code",
   "execution_count": 3,
   "metadata": {},
   "outputs": [],
   "source": [
    "import numpy as np\n",
    "import pandas as pd\n",
    "import matplotlib.pyplot as plt\n",
    "import requests\n",
    "import datetime\n",
    "\n",
    "# import finlib"
   ]
  },
  {
   "cell_type": "markdown",
   "metadata": {},
   "source": [
    "The below code snippets no longer works because yahoo finance has changed their API to not allow calls to it from anything other that their own website. I am leaving the code here for reference."
   ]
  },
  {
   "cell_type": "code",
   "execution_count": null,
   "metadata": {},
   "outputs": [],
   "source": [
    "base_url = 'https://www.nseindia.com'\n",
    "response = requests.get(base_url, headers={'User-Agent': 'Mozilla/5.0'})\n",
    "\n",
    "# THe NSE site requires a cookie to be passed to query the API along with a user agent.\n",
    "cookies = response.cookies\n",
    "request_headers = {'User-Agent': 'Mozilla/5.0'}\n",
    "\n",
    "yahoo_response = requests.get(base_url + '/api/equity-stockIndices?index=NIFTY%2050', headers=request_headers, cookies=cookies).json()\n",
    "\n",
    "yahoo_response\n",
    "\n",
    "data = yahoo_response['data']\n",
    "\n",
    "symbols = [(i['symbol'], i['symbol'] + '.NS') for i in data if i['symbol'] != 'NIFTY 50']\n",
    "\n",
    "symbol_dfs = []\n",
    "start_time = int(datetime.datetime(2024,1,1,0,0,0).timestamp())\n",
    "end_time = int(datetime.datetime.now().timestamp())\n",
    "\n",
    "for symbol, name in symbols:\n",
    "    url = f'https://query1.finance.yahoo.com/v7/finance/download/{name}?period1={start_time}&period2={end_time}&interval=1d&events=history&includeAdjustedClose=true'\n",
    "    d = pd.read_csv(url, usecols=['Date', 'Adj Close'], parse_dates=['Date'], index_col='Date')\n",
    "    d.index = d.index.date\n",
    "    symbol_dfs.append((symbol, d))\n",
    "\n",
    "nifty50_df = pd.DataFrame()\n",
    "\n",
    "for df in symbol_dfs:\n",
    "    nifty50_df[df[0]] = df[1]['Adj Close']\n",
    "\n",
    "nifty50_df.index = pd.to_datetime(nifty50_df.index)"
   ]
  },
  {
   "cell_type": "markdown",
   "metadata": {},
   "source": [
    "In the next step we are going to get the sector and the industry of the companies. This will get used at a later stage to filter the master dataset."
   ]
  },
  {
   "cell_type": "code",
   "execution_count": 156,
   "metadata": {},
   "outputs": [],
   "source": [
    "import yfinance as yf\n",
    "\n",
    "company_sector_industry = pd.DataFrame(columns=['Symbol', 'Sector', 'Industry'])\n",
    "\n",
    "for symbol, yfin_name in symbols:\n",
    "    stock_info = yf.Ticker(yfin_name).info\n",
    "\n",
    "    temp = pd.DataFrame({\n",
    "        'Symbol': symbol,\n",
    "        'yfin_name': yfin_name,\n",
    "        'Sector': stock_info.get('sector', 'N/A'),\n",
    "        'Industry': stock_info.get('industry', 'N/A')\n",
    "    }, index=[0])\n",
    "\n",
    "    company_sector_industry = pd.concat([company_sector_industry, temp], ignore_index=True)\n",
    "\n",
    "company_sector_industry.set_index('Symbol', inplace=True)\n",
    "    "
   ]
  },
  {
   "cell_type": "code",
   "execution_count": null,
   "metadata": {},
   "outputs": [],
   "source": [
    "company_sector_industry"
   ]
  },
  {
   "cell_type": "code",
   "execution_count": 158,
   "metadata": {},
   "outputs": [],
   "source": [
    "from sklearn.preprocessing import MinMaxScaler\n",
    "\n",
    "scaler = MinMaxScaler()\n",
    "scaled_nifty50_data = scaler.fit_transform(nifty50_df)\n",
    "scaled_df = pd.DataFrame(scaled_nifty50_data, index=nifty50_df.index, columns=nifty50_df.columns)"
   ]
  },
  {
   "cell_type": "code",
   "execution_count": null,
   "metadata": {},
   "outputs": [],
   "source": [
    "scaled_df"
   ]
  },
  {
   "cell_type": "code",
   "execution_count": 160,
   "metadata": {},
   "outputs": [],
   "source": [
    "cols = [ column for column in nifty50_df.columns if company_sector_industry.loc[column].Sector == 'Consumer Defensive' ]"
   ]
  },
  {
   "cell_type": "code",
   "execution_count": null,
   "metadata": {},
   "outputs": [],
   "source": []
  }
 ],
 "metadata": {
  "kernelspec": {
   "display_name": "env",
   "language": "python",
   "name": "python3"
  },
  "language_info": {
   "codemirror_mode": {
    "name": "ipython",
    "version": 3
   },
   "file_extension": ".py",
   "mimetype": "text/x-python",
   "name": "python",
   "nbconvert_exporter": "python",
   "pygments_lexer": "ipython3",
   "version": "3.9.7"
  }
 },
 "nbformat": 4,
 "nbformat_minor": 2
}
