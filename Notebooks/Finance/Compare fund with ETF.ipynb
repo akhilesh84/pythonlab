{
 "cells": [
  {
   "cell_type": "code",
   "execution_count": 8,
   "metadata": {},
   "outputs": [],
   "source": [
    "import numpy as np\n",
    "import pandas as pd\n",
    "import matplotlib.pyplot as plt\n",
    "import requests\n",
    "import datetime\n",
    "import ssl\n",
    "import certifi\n",
    "import urllib"
   ]
  },
  {
   "cell_type": "markdown",
   "metadata": {},
   "source": [
    "The below code no longer works as yahoo finance no longer allow API calls to get the data. So it is there only for reference."
   ]
  },
  {
   "cell_type": "code",
   "execution_count": null,
   "metadata": {},
   "outputs": [],
   "source": [
    "import urllib.request\n",
    "\n",
    "\n",
    "data = [{'symbol': 'MIDCAPIETF'}, {'symbol': '0P0000XW8F'}]\n",
    "\n",
    "symbols = [(i['symbol'], i['symbol'] + '.NS') for i in data]\n",
    "\n",
    "symbol_dfs = []\n",
    "start_time = int(datetime.datetime(2024,1,1,0,0,0).timestamp())\n",
    "end_time = int(datetime.datetime.now().timestamp())\n",
    "\n",
    "# Create an SSL context using certifi\n",
    "context = ssl.create_default_context(cafile=certifi.where())\n",
    "\n",
    "for symbol, name in symbols:\n",
    "    url = f'https://query1.finance.yahoo.com/v7/finance/download/{name}?period1={start_time}&period2={end_time}&interval=1d&events=history&includeAdjustedClose=true'\n",
    "    \n",
    "    print(url)\n",
    "\n",
    "    # Open the URL with the SSL context\n",
    "    with urllib.request.urlopen(url, context=context) as response:\n",
    "        d = pd.read_csv(response, usecols=['Date', 'Adj Close'], parse_dates=['Date'], index_col='Date')\n",
    "        d.index = d.index.date\n",
    "        symbol_dfs.append((symbol, d))\n",
    "\n",
    "nifty50_df = pd.DataFrame()\n",
    "\n",
    "for df in symbol_dfs:\n",
    "    nifty50_df[df[0]] = df[1]['Adj Close']\n",
    "\n",
    "nifty50_df.index = pd.to_datetime(nifty50_df.index)"
   ]
  },
  {
   "cell_type": "markdown",
   "metadata": {},
   "source": [
    "In the next step we are going to get the sector and the industry of the companies. This will get used at a later stage to filter the master dataset."
   ]
  },
  {
   "cell_type": "code",
   "execution_count": 156,
   "metadata": {},
   "outputs": [],
   "source": [
    "import yfinance as yf\n",
    "\n",
    "company_sector_industry = pd.DataFrame(columns=['Symbol', 'Sector', 'Industry'])\n",
    "\n",
    "for symbol, yfin_name in symbols:\n",
    "    stock_info = yf.Ticker(yfin_name).info\n",
    "\n",
    "    temp = pd.DataFrame({\n",
    "        'Symbol': symbol,\n",
    "        'yfin_name': yfin_name,\n",
    "        'Sector': stock_info.get('sector', 'N/A'),\n",
    "        'Industry': stock_info.get('industry', 'N/A')\n",
    "    }, index=[0])\n",
    "\n",
    "    company_sector_industry = pd.concat([company_sector_industry, temp], ignore_index=True)\n",
    "\n",
    "company_sector_industry.set_index('Symbol', inplace=True)\n",
    "    "
   ]
  },
  {
   "cell_type": "code",
   "execution_count": null,
   "metadata": {},
   "outputs": [],
   "source": [
    "company_sector_industry"
   ]
  },
  {
   "cell_type": "code",
   "execution_count": 158,
   "metadata": {},
   "outputs": [],
   "source": [
    "from sklearn.preprocessing import MinMaxScaler\n",
    "\n",
    "scaler = MinMaxScaler()\n",
    "scaled_nifty50_data = scaler.fit_transform(nifty50_df)\n",
    "scaled_df = pd.DataFrame(scaled_nifty50_data, index=nifty50_df.index, columns=nifty50_df.columns)"
   ]
  },
  {
   "cell_type": "code",
   "execution_count": null,
   "metadata": {},
   "outputs": [],
   "source": [
    "scaled_df"
   ]
  },
  {
   "cell_type": "code",
   "execution_count": 160,
   "metadata": {},
   "outputs": [],
   "source": [
    "cols = [ column for column in nifty50_df.columns if company_sector_industry.loc[column].Sector == 'Consumer Defensive' ]"
   ]
  },
  {
   "cell_type": "code",
   "execution_count": null,
   "metadata": {},
   "outputs": [],
   "source": []
  }
 ],
 "metadata": {
  "kernelspec": {
   "display_name": "env",
   "language": "python",
   "name": "python3"
  },
  "language_info": {
   "codemirror_mode": {
    "name": "ipython",
    "version": 3
   },
   "file_extension": ".py",
   "mimetype": "text/x-python",
   "name": "python",
   "nbconvert_exporter": "python",
   "pygments_lexer": "ipython3",
   "version": "3.9.7"
  }
 },
 "nbformat": 4,
 "nbformat_minor": 2
}
