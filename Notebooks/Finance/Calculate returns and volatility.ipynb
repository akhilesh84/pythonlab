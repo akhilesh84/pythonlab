{
 "cells": [
  {
   "cell_type": "code",
   "execution_count": null,
   "metadata": {},
   "outputs": [],
   "source": [
    "import numpy as np\n",
    "import pandas as pd\n",
    "import matplotlib.pyplot as plt\n",
    "import plotly.express as px"
   ]
  },
  {
   "cell_type": "markdown",
   "metadata": {},
   "source": [
    "Let us get the data for a particular stock from some time range"
   ]
  },
  {
   "cell_type": "code",
   "execution_count": null,
   "metadata": {},
   "outputs": [],
   "source": [
    "stock_data = pd.read_csv('../Data/HDFCBANK.NS.csv', index_col='Date', parse_dates=True)\n",
    "stock_data.dropna(inplace=True)\n",
    "\n",
    "column_name = 'Close'\n",
    "stock_data"
   ]
  },
  {
   "cell_type": "code",
   "execution_count": null,
   "metadata": {},
   "outputs": [],
   "source": [
    "stock_data['Return'] = stock_data[column_name].pct_change()\n",
    "# hdfc_data['LogReturn'] = hdfc_data['Close'].apply(np.log).diff()\n",
    "\n",
    "stock_data['Return']"
   ]
  },
  {
   "cell_type": "code",
   "execution_count": null,
   "metadata": {},
   "outputs": [],
   "source": [
    "cumulative_return = (1 + stock_data['Return']).prod() - 1\n",
    "\n",
    "# Step 5: Calculate Annualized Return\n",
    "num_years = (stock_data.index[-1] - stock_data.index[0]).days / 365.25\n",
    "annualized_return = (1 + cumulative_return) ** (1 / num_years) - 1\n",
    "\n",
    "print(f\"Annualized Return: {annualized_return:.2%}\")\n"
   ]
  },
  {
   "cell_type": "markdown",
   "metadata": {},
   "source": [
    "Now that we know the annualized return of the stock, he next thing we are going to try and find out is the relative volatility that this stock has experienced"
   ]
  },
  {
   "cell_type": "code",
   "execution_count": null,
   "metadata": {},
   "outputs": [],
   "source": [
    "stock_data[column_name][\"2020\"].rolling(window=50).mean().plot()\n",
    "stock_data[column_name][\"2020\"].rolling(window=20).mean().plot()\n",
    "stock_data[column_name][\"2020\"].rolling(window=120).mean().plot()"
   ]
  },
  {
   "cell_type": "code",
   "execution_count": null,
   "metadata": {},
   "outputs": [],
   "source": []
  }
 ],
 "metadata": {
  "kernelspec": {
   "display_name": "env",
   "language": "python",
   "name": "python3"
  },
  "language_info": {
   "codemirror_mode": {
    "name": "ipython",
    "version": 3
   },
   "file_extension": ".py",
   "mimetype": "text/x-python",
   "name": "python",
   "nbconvert_exporter": "python",
   "pygments_lexer": "ipython3",
   "version": "3.12.2"
  }
 },
 "nbformat": 4,
 "nbformat_minor": 2
}
