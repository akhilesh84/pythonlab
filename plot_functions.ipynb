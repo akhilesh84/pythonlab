{
 "cells": [
  {
   "cell_type": "code",
   "execution_count": 1,
   "id": "1f47bf9a-f4e6-4cb6-9b69-8bfdcd465617",
   "metadata": {},
   "outputs": [],
   "source": [
    "# Import common libraries\n",
    "from matplotlib import pyplot as plt\n",
    "import numpy as np\n",
    "import pandas as pd\n",
    "from pandas import DataFrame, Series\n",
    "from datetime import date\n",
    "import math"
   ]
  },
  {
   "cell_type": "code",
   "execution_count": 2,
   "id": "1f19d541-b1a8-434a-a039-fce4b37c448b",
   "metadata": {},
   "outputs": [],
   "source": [
    "# Import frmo user-defined libraries\n",
    "from finlib import FV, calculate_terminal_value, calculate_intrinsic_value, calculate_real_interest_rate, calculate_cagr, calculate_cagr_from_cash_flows, calculate_xirr"
   ]
  },
  {
   "cell_type": "code",
   "execution_count": 3,
   "id": "4364e34d-d99b-4189-a7dc-b93d810496e9",
   "metadata": {},
   "outputs": [
    {
     "data": {
      "text/plain": [
       "49.55685243760697"
      ]
     },
     "execution_count": 3,
     "metadata": {},
     "output_type": "execute_result"
    }
   ],
   "source": [
    "FV(pv=100, r=-0.07, n=12, t=10)"
   ]
  },
  {
   "cell_type": "code",
   "execution_count": 4,
   "metadata": {},
   "outputs": [
    {
     "data": {
      "text/plain": [
       "0.7476635514018685"
      ]
     },
     "execution_count": 4,
     "metadata": {},
     "output_type": "execute_result"
    }
   ],
   "source": [
    "calculate_real_interest_rate(0.078, 0.07)  * 100"
   ]
  },
  {
   "cell_type": "code",
   "execution_count": 5,
   "id": "c9fcf85b",
   "metadata": {},
   "outputs": [
    {
     "data": {
      "text/plain": [
       "118493.89857746831"
      ]
     },
     "execution_count": 5,
     "metadata": {},
     "output_type": "execute_result"
    }
   ],
   "source": [
    "P = 100000\n",
    "FV(P, calculate_real_interest_rate(0.078, 0.06), 12, 10)"
   ]
  },
  {
   "cell_type": "code",
   "execution_count": 6,
   "id": "82d4a869",
   "metadata": {},
   "outputs": [
    {
     "name": "stdout",
     "output_type": "stream",
     "text": [
      "The CAGR is 8.50%\n"
     ]
    }
   ],
   "source": [
    "beginning_value = 1000\n",
    "ending_value = 2000\n",
    "years = 8.5\n",
    "\n",
    "cagr = calculate_cagr(beginning_value, ending_value, years)\n",
    "print(f\"The CAGR is {cagr * 100:.2f}%\")"
   ]
  },
  {
   "cell_type": "code",
   "execution_count": null,
   "id": "1caf99b3",
   "metadata": {},
   "outputs": [],
   "source": []
  }
 ],
 "metadata": {
  "kernelspec": {
   "display_name": "env",
   "language": "python",
   "name": "python3"
  },
  "language_info": {
   "codemirror_mode": {
    "name": "ipython",
    "version": 3
   },
   "file_extension": ".py",
   "mimetype": "text/x-python",
   "name": "python",
   "nbconvert_exporter": "python",
   "pygments_lexer": "ipython3",
   "version": "3.9.7"
  }
 },
 "nbformat": 4,
 "nbformat_minor": 5
}
